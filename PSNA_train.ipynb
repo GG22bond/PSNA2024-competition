{
 "cells": [
  {
   "cell_type": "code",
   "execution_count": 9,
   "outputs": [],
   "source": [
    "import os\n",
    "import gc\n",
    "import sys\n",
    "from PIL import Image\n",
    "import cv2\n",
    "import math, random\n",
    "import numpy as np\n",
    "import pandas as pd\n",
    "from glob import glob\n",
    "from tqdm import tqdm\n",
    "import matplotlib.pyplot as plt\n",
    "from sklearn.model_selection import KFold\n",
    "\n",
    "from collections import OrderedDict\n",
    "\n",
    "import torch\n",
    "import torch.nn.functional as F\n",
    "from torch import nn\n",
    "from torch.utils.data import DataLoader, Dataset\n",
    "from torch.optim import AdamW\n",
    "\n",
    "import timm\n",
    "from transformers import get_cosine_schedule_with_warmup\n",
    "\n",
    "import albumentations as A\n",
    "\n",
    "from sklearn.model_selection import KFold"
   ],
   "metadata": {
    "collapsed": false,
    "pycharm": {
     "name": "#%%\n"
    }
   }
  },
  {
   "cell_type": "code",
   "execution_count": 10,
   "outputs": [],
   "source": [
    "path = './dataset'"
   ],
   "metadata": {
    "collapsed": false,
    "pycharm": {
     "name": "#%%\n"
    }
   }
  },
  {
   "cell_type": "code",
   "execution_count": 13,
   "outputs": [],
   "source": [
    "# Remember to change NOT_DEBUG to True for real training\n",
    "NOT_DEBUG = False # True -> run naormally, False -> debug mode, with lesser computing cost\n",
    "\n",
    "OUTPUT_DIR = f'./output'\n",
    "os.makedirs(OUTPUT_DIR, exist_ok=True)\n",
    "\n",
    "device = 'cuda:0' if torch.cuda.is_available() else 'cpu'\n",
    "N_WORKERS = os.cpu_count()\n",
    "USE_AMP = True # can change True if using T4 or newer than Ampere\n",
    "SEED = 8620\n",
    "\n",
    "IMG_SIZE = [512, 512]\n",
    "IN_CHANS = 30\n",
    "N_LABELS = 25\n",
    "N_CLASSES = 3 * N_LABELS\n",
    "\n",
    "AUG_PROB = 0.75\n",
    "SELECTED_FOLDS = [0]\n",
    "N_FOLDS = 5 if NOT_DEBUG else 2\n",
    "EPOCHS = 10 if NOT_DEBUG else 2\n",
    "# MODEL_NAME = \"tf_efficientnet_b4.ns_jft_in1k\" if NOT_DEBUG else \"tf_efficientnet_b0.ns_jft_in1k\"\n",
    "# TODO: you can choose other convolutional neural network (CNN) architectures designed to\n",
    "#       achieve state-of-the-art accuracy in various computer vision tasks\n",
    "\n",
    "MODEL_NAME = \"densenet201\" if NOT_DEBUG else \"densenet121\"\n",
    "\n",
    "GRAD_ACC = 2\n",
    "TGT_BATCH_SIZE = 32\n",
    "BATCH_SIZE = TGT_BATCH_SIZE // GRAD_ACC\n",
    "MAX_GRAD_NORM = None\n",
    "EARLY_STOPPING_EPOCH = 3\n",
    "\n",
    "LR = 2e-4 * TGT_BATCH_SIZE / 32\n",
    "WD = 1e-2\n",
    "AUG = True"
   ],
   "metadata": {
    "collapsed": false,
    "pycharm": {
     "name": "#%%\n"
    }
   }
  },
  {
   "cell_type": "code",
   "execution_count": 15,
   "outputs": [],
   "source": [
    "def set_random_seed(seed: int = 2222, deterministic: bool = False):\n",
    "    \"\"\"Set seeds\"\"\"\n",
    "    random.seed(seed)\n",
    "    np.random.seed(seed)\n",
    "    os.environ[\"PYTHONHASHSEED\"] = str(seed)\n",
    "    torch.manual_seed(seed)\n",
    "    torch.cuda.manual_seed(seed)  # type: ignore\n",
    "    torch.backends.cudnn.benchmark = True\n",
    "    torch.backends.cudnn.deterministic = deterministic  # type: ignore\n",
    "\n",
    "set_random_seed(SEED)"
   ],
   "metadata": {
    "collapsed": false,
    "pycharm": {
     "name": "#%%\n"
    }
   }
  },
  {
   "cell_type": "code",
   "execution_count": null,
   "outputs": [],
   "source": [],
   "metadata": {
    "collapsed": false,
    "pycharm": {
     "name": "#%%\n"
    }
   }
  }
 ],
 "metadata": {
  "kernelspec": {
   "display_name": "Python 3",
   "language": "python",
   "name": "python3"
  },
  "language_info": {
   "codemirror_mode": {
    "name": "ipython",
    "version": 2
   },
   "file_extension": ".py",
   "mimetype": "text/x-python",
   "name": "python",
   "nbconvert_exporter": "python",
   "pygments_lexer": "ipython2",
   "version": "2.7.6"
  }
 },
 "nbformat": 4,
 "nbformat_minor": 0
}